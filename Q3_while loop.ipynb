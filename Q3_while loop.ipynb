{
 "cells": [
  {
   "cell_type": "code",
   "execution_count": null,
   "id": "308fd272-337a-4128-a414-391526decd35",
   "metadata": {},
   "outputs": [
    {
     "name": "stdout",
     "output_type": "stream",
     "text": [
      "water left:  10\n",
      "cup qty:  1\n",
      "[1, 2, 3, 4, 5, 6, 7, 8, 9]\n",
      "water left:  1\n",
      "cup qty:  2\n",
      "[1, 2, 3, 4, 5, 6, 7, 8]\n",
      "cup qty:  3\n"
     ]
    }
   ],
   "source": [
    "# import random\n",
    "# N = random.randint(0,100)\n",
    "# K = random.randint(0,1000)\n",
    "# print (N,K)\n",
    "\n",
    "def sl(N, K):\n",
    "    \n",
    "    # list out all the cups\n",
    "    cups = []\n",
    "    for i in range(1,N+1):\n",
    "        cups.append(i)    \n",
    "        \n",
    "    if K>sum(cups):\n",
    "        print ('not enough cup')\n",
    "    else:\n",
    "        if K in cups:\n",
    "            print ('Just 1 cup')\n",
    "        else:\n",
    "            cup_qty = 0\n",
    "            for i in range(1,N):\n",
    "                while True:\n",
    "                    # to avoid an error, ignore this\n",
    "                    if int(len(cups)) == 1:\n",
    "                            cup_qty =1\n",
    "                            break\n",
    "\n",
    "                    # pour in the largest cup always       \n",
    "                    if K > cups[-i]:\n",
    "                        cup_qty += 1\n",
    "                        K = K-cups[-i]\n",
    "                        cups.pop(-i)\n",
    "                        print ('water left: ',K)\n",
    "                        print ('cup qty: ',cup_qty)\n",
    "                        print (cups)\n",
    "\n",
    "                        # until the the water left is smaller than the largest cup, pour in the whatever cup left\n",
    "                        if K <= cups[-i]:\n",
    "                            if K in cups:\n",
    "                                cup_qty += 1\n",
    "                                print ('cup qty: ',cup_qty)\n",
    "                            break\n",
    "\n",
    "\n",
    "sl(10,20)\n",
    "        \n",
    "            "
   ]
  },
  {
   "cell_type": "code",
   "execution_count": null,
   "id": "3c5be035-8c2a-44ef-92b2-ccb9678b504e",
   "metadata": {},
   "outputs": [],
   "source": []
  }
 ],
 "metadata": {
  "kernelspec": {
   "display_name": "Python 3",
   "language": "python",
   "name": "python3"
  },
  "language_info": {
   "codemirror_mode": {
    "name": "ipython",
    "version": 3
   },
   "file_extension": ".py",
   "mimetype": "text/x-python",
   "name": "python",
   "nbconvert_exporter": "python",
   "pygments_lexer": "ipython3",
   "version": "3.7.3"
  }
 },
 "nbformat": 4,
 "nbformat_minor": 5
}
