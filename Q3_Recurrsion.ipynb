{
 "cells": [
  {
   "cell_type": "code",
   "execution_count": 2,
   "id": "1c5d3b99-9e50-4d47-bc18-82ff83b60bea",
   "metadata": {},
   "outputs": [
    {
     "name": "stdout",
     "output_type": "stream",
     "text": [
      "cups used:  [10]\n",
      "cups used:  [9, 10]\n",
      "cups used:  [8, 9, 10]\n",
      "[3, 8, 9, 10]\n"
     ]
    },
    {
     "data": {
      "text/plain": [
       "3"
      ]
     },
     "execution_count": 2,
     "metadata": {},
     "output_type": "execute_result"
    }
   ],
   "source": [
    "# import random\n",
    "# N = random.randint(0,100)\n",
    "# K = random.randint(0,1000)\n",
    "# print (N,K)\n",
    "\n",
    "cups =[]\n",
    "def sl(N,K):\n",
    "\n",
    "    if K<=N:\n",
    "        cups.insert(0,K)\n",
    "        print ('cups used: ',cups)\n",
    "        return K\n",
    "    \n",
    "    cups.append(N)\n",
    "    cups.sort()\n",
    "    print ('cups used: ',cups)\n",
    "    \n",
    "    return sl(N-1,K-N)\n",
    "    \n",
    "sl(10,30)  "
   ]
  },
  {
   "cell_type": "code",
   "execution_count": null,
   "id": "48353a70-7565-4d70-9d3f-c59ac58f5b7e",
   "metadata": {},
   "outputs": [],
   "source": []
  }
 ],
 "metadata": {
  "kernelspec": {
   "display_name": "Python 3",
   "language": "python",
   "name": "python3"
  },
  "language_info": {
   "codemirror_mode": {
    "name": "ipython",
    "version": 3
   },
   "file_extension": ".py",
   "mimetype": "text/x-python",
   "name": "python",
   "nbconvert_exporter": "python",
   "pygments_lexer": "ipython3",
   "version": "3.7.3"
  }
 },
 "nbformat": 4,
 "nbformat_minor": 5
}
